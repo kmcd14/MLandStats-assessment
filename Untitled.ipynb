{
 "cells": [
  {
   "cell_type": "code",
   "execution_count": 8,
   "id": "e2dd1865-5f17-42c0-a246-850da5c4fd7a",
   "metadata": {},
   "outputs": [],
   "source": [
    "# Importing datasets from scikit-learn \n",
    "import sklearn.datasets as sk\n",
    "\n",
    "# Manipulating data\n",
    "import numpy as np\n",
    "\n",
    "# Manipulating data\n",
    "import pandas as pd\n",
    "\n",
    "# Visualisation\n",
    "import matplotlib.pyplot as plt\n",
    "\n",
    "# Visualisation\n",
    "import seaborn as sns\n",
    "\n",
    "# Selecting algorithm\n",
    "#import sklearn.model_selection as mod"
   ]
  },
  {
   "cell_type": "code",
   "execution_count": 9,
   "id": "a4222bd5-9035-4bb4-9616-974feb140213",
   "metadata": {},
   "outputs": [],
   "source": [
    "# Loading the data\n",
    "df = pd.read_csv('datasets/Salary.csv')"
   ]
  },
  {
   "cell_type": "code",
   "execution_count": 10,
   "id": "aa8be6d1-a89f-45e5-ad4a-e852d4ce4b9a",
   "metadata": {},
   "outputs": [
    {
     "data": {
      "text/html": [
       "<div>\n",
       "<style scoped>\n",
       "    .dataframe tbody tr th:only-of-type {\n",
       "        vertical-align: middle;\n",
       "    }\n",
       "\n",
       "    .dataframe tbody tr th {\n",
       "        vertical-align: top;\n",
       "    }\n",
       "\n",
       "    .dataframe thead th {\n",
       "        text-align: right;\n",
       "    }\n",
       "</style>\n",
       "<table border=\"1\" class=\"dataframe\">\n",
       "  <thead>\n",
       "    <tr style=\"text-align: right;\">\n",
       "      <th></th>\n",
       "      <th>YearsExperience</th>\n",
       "      <th>Salary</th>\n",
       "    </tr>\n",
       "  </thead>\n",
       "  <tbody>\n",
       "    <tr>\n",
       "      <th>0</th>\n",
       "      <td>1.1</td>\n",
       "      <td>39343</td>\n",
       "    </tr>\n",
       "    <tr>\n",
       "      <th>1</th>\n",
       "      <td>1.3</td>\n",
       "      <td>46205</td>\n",
       "    </tr>\n",
       "    <tr>\n",
       "      <th>2</th>\n",
       "      <td>1.5</td>\n",
       "      <td>37731</td>\n",
       "    </tr>\n",
       "    <tr>\n",
       "      <th>3</th>\n",
       "      <td>2.0</td>\n",
       "      <td>43525</td>\n",
       "    </tr>\n",
       "    <tr>\n",
       "      <th>4</th>\n",
       "      <td>2.2</td>\n",
       "      <td>39891</td>\n",
       "    </tr>\n",
       "  </tbody>\n",
       "</table>\n",
       "</div>"
      ],
      "text/plain": [
       "   YearsExperience  Salary\n",
       "0              1.1   39343\n",
       "1              1.3   46205\n",
       "2              1.5   37731\n",
       "3              2.0   43525\n",
       "4              2.2   39891"
      ]
     },
     "execution_count": 10,
     "metadata": {},
     "output_type": "execute_result"
    }
   ],
   "source": [
    "df.head()"
   ]
  },
  {
   "cell_type": "code",
   "execution_count": 11,
   "id": "2ae0a5b6-e5e4-4b3e-9f15-372f894132da",
   "metadata": {},
   "outputs": [
    {
     "data": {
      "text/plain": [
       "(35, 2)"
      ]
     },
     "execution_count": 11,
     "metadata": {},
     "output_type": "execute_result"
    }
   ],
   "source": [
    "df.shape"
   ]
  },
  {
   "cell_type": "code",
   "execution_count": 12,
   "id": "4f2d34ab-41ba-48d6-bb46-3b4570b0e93d",
   "metadata": {},
   "outputs": [
    {
     "name": "stdout",
     "output_type": "stream",
     "text": [
      "<class 'pandas.core.frame.DataFrame'>\n",
      "RangeIndex: 35 entries, 0 to 34\n",
      "Data columns (total 2 columns):\n",
      " #   Column           Non-Null Count  Dtype  \n",
      "---  ------           --------------  -----  \n",
      " 0   YearsExperience  35 non-null     float64\n",
      " 1   Salary           35 non-null     int64  \n",
      "dtypes: float64(1), int64(1)\n",
      "memory usage: 688.0 bytes\n"
     ]
    }
   ],
   "source": [
    "df.info()"
   ]
  },
  {
   "cell_type": "code",
   "execution_count": 13,
   "id": "4d167058-9b47-4b2e-9535-105140ba4c22",
   "metadata": {},
   "outputs": [
    {
     "data": {
      "text/html": [
       "<div>\n",
       "<style scoped>\n",
       "    .dataframe tbody tr th:only-of-type {\n",
       "        vertical-align: middle;\n",
       "    }\n",
       "\n",
       "    .dataframe tbody tr th {\n",
       "        vertical-align: top;\n",
       "    }\n",
       "\n",
       "    .dataframe thead th {\n",
       "        text-align: right;\n",
       "    }\n",
       "</style>\n",
       "<table border=\"1\" class=\"dataframe\">\n",
       "  <thead>\n",
       "    <tr style=\"text-align: right;\">\n",
       "      <th></th>\n",
       "      <th>YearsExperience</th>\n",
       "      <th>Salary</th>\n",
       "    </tr>\n",
       "  </thead>\n",
       "  <tbody>\n",
       "    <tr>\n",
       "      <th>count</th>\n",
       "      <td>35.000000</td>\n",
       "      <td>35.000000</td>\n",
       "    </tr>\n",
       "    <tr>\n",
       "      <th>mean</th>\n",
       "      <td>6.308571</td>\n",
       "      <td>83945.600000</td>\n",
       "    </tr>\n",
       "    <tr>\n",
       "      <th>std</th>\n",
       "      <td>3.618610</td>\n",
       "      <td>32162.673003</td>\n",
       "    </tr>\n",
       "    <tr>\n",
       "      <th>min</th>\n",
       "      <td>1.100000</td>\n",
       "      <td>37731.000000</td>\n",
       "    </tr>\n",
       "    <tr>\n",
       "      <th>25%</th>\n",
       "      <td>3.450000</td>\n",
       "      <td>57019.000000</td>\n",
       "    </tr>\n",
       "    <tr>\n",
       "      <th>50%</th>\n",
       "      <td>5.300000</td>\n",
       "      <td>81363.000000</td>\n",
       "    </tr>\n",
       "    <tr>\n",
       "      <th>75%</th>\n",
       "      <td>9.250000</td>\n",
       "      <td>113223.500000</td>\n",
       "    </tr>\n",
       "    <tr>\n",
       "      <th>max</th>\n",
       "      <td>13.500000</td>\n",
       "      <td>139465.000000</td>\n",
       "    </tr>\n",
       "  </tbody>\n",
       "</table>\n",
       "</div>"
      ],
      "text/plain": [
       "       YearsExperience         Salary\n",
       "count        35.000000      35.000000\n",
       "mean          6.308571   83945.600000\n",
       "std           3.618610   32162.673003\n",
       "min           1.100000   37731.000000\n",
       "25%           3.450000   57019.000000\n",
       "50%           5.300000   81363.000000\n",
       "75%           9.250000  113223.500000\n",
       "max          13.500000  139465.000000"
      ]
     },
     "execution_count": 13,
     "metadata": {},
     "output_type": "execute_result"
    }
   ],
   "source": [
    "df.describe()"
   ]
  },
  {
   "cell_type": "code",
   "execution_count": 14,
   "id": "284bc2cf-84d3-4bf7-a513-163e3b43236c",
   "metadata": {},
   "outputs": [],
   "source": [
    "# Checking correlations in the data\n",
    "correlation = df.corr()"
   ]
  },
  {
   "cell_type": "code",
   "execution_count": 15,
   "id": "5f8cbf48-e9a2-4721-ab29-19e9b8cafb0f",
   "metadata": {},
   "outputs": [
    {
     "data": {
      "text/html": [
       "<div>\n",
       "<style scoped>\n",
       "    .dataframe tbody tr th:only-of-type {\n",
       "        vertical-align: middle;\n",
       "    }\n",
       "\n",
       "    .dataframe tbody tr th {\n",
       "        vertical-align: top;\n",
       "    }\n",
       "\n",
       "    .dataframe thead th {\n",
       "        text-align: right;\n",
       "    }\n",
       "</style>\n",
       "<table border=\"1\" class=\"dataframe\">\n",
       "  <thead>\n",
       "    <tr style=\"text-align: right;\">\n",
       "      <th></th>\n",
       "      <th>YearsExperience</th>\n",
       "      <th>Salary</th>\n",
       "    </tr>\n",
       "  </thead>\n",
       "  <tbody>\n",
       "    <tr>\n",
       "      <th>YearsExperience</th>\n",
       "      <td>1.000000</td>\n",
       "      <td>0.982427</td>\n",
       "    </tr>\n",
       "    <tr>\n",
       "      <th>Salary</th>\n",
       "      <td>0.982427</td>\n",
       "      <td>1.000000</td>\n",
       "    </tr>\n",
       "  </tbody>\n",
       "</table>\n",
       "</div>"
      ],
      "text/plain": [
       "                 YearsExperience    Salary\n",
       "YearsExperience         1.000000  0.982427\n",
       "Salary                  0.982427  1.000000"
      ]
     },
     "execution_count": 15,
     "metadata": {},
     "output_type": "execute_result"
    }
   ],
   "source": [
    "correlation"
   ]
  },
  {
   "cell_type": "code",
   "execution_count": 16,
   "id": "0ec7617f-98c6-47e8-8c92-8af9a3cf6303",
   "metadata": {},
   "outputs": [
    {
     "data": {
      "text/plain": [
       "Text(0.5, 1.0, 'Heat Map')"
      ]
     },
     "execution_count": 16,
     "metadata": {},
     "output_type": "execute_result"
    },
    {
     "data": {
      "image/png": "[encoded data removed]",
      "text/plain": [
       "<Figure size 432x288 with 2 Axes>"
      ]
     },
     "metadata": {
      "needs_background": "light"
     },
     "output_type": "display_data"
    }
   ],
   "source": [
    "# Generating a heatmap based on the correlation\n",
    "sns.heatmap(correlation, cmap='coolwarm', annot=True)\n",
    "\n",
    "# Adding a title\n",
    "plt.title('Heat Map')"
   ]
  },
  {
   "cell_type": "code",
   "execution_count": 17,
   "id": "5f21aa42-da3f-474a-876a-52a4c176455c",
   "metadata": {},
   "outputs": [
    {
     "data": {
      "image/png": "[encoded data removed]",
      "text/plain": [
       "<Figure size 432x288 with 1 Axes>"
      ]
     },
     "metadata": {
      "needs_background": "light"
     },
     "output_type": "display_data"
    }
   ],
   "source": [
    "# Generating a scatterplot\n",
    "plt.scatter(x=df['Salary'], y=df['YearsExperience'], marker='o', edgecolors='black')\n",
    "\n",
    "# Adding labels to the x and y axis\n",
    "plt.xlabel('Salary')\n",
    "plt.ylabel('Years Experience')\n",
    "\n",
    "# Adding a grid\n",
    "plt.grid(color='black', linestyle='--', alpha=0.5)"
   ]
  },
  {
   "cell_type": "code",
   "execution_count": 18,
   "id": "7eef8145-3d40-4fc6-b26e-5dff62652ba3",
   "metadata": {},
   "outputs": [
    {
     "data": {
      "text/plain": [
       "Text(0.5, 0, 'YearsExperience')"
      ]
     },
     "execution_count": 18,
     "metadata": {},
     "output_type": "execute_result"
    },
    {
     "data": {
      "image/png": "[encoded data removed]",
      "text/plain": [
       "<Figure size 1152x360 with 1 Axes>"
      ]
     },
     "metadata": {
      "needs_background": "light"
     },
     "output_type": "display_data"
    }
   ],
   "source": [
    "# Changing figure size. Too cramped in previous set default\n",
    "plt.figure(figsize=(16,5))\n",
    "\n",
    "# Generating a boxplot \n",
    "sns.boxplot(x=df['YearsExperience'], orient='h')\n",
    "\n",
    "# Adding labels to x axis\n",
    "plt.xlabel('YearsExperience')"
   ]
  },
  {
   "cell_type": "code",
   "execution_count": 19,
   "id": "7be2277d-faa5-4439-9c57-778261cfa350",
   "metadata": {
    "tags": []
   },
   "outputs": [
    {
     "data": {
      "text/plain": [
       "Text(0.5, 0, 'Salary')"
      ]
     },
     "execution_count": 19,
     "metadata": {},
     "output_type": "execute_result"
    },
    {
     "data": {
      "image/png": "[encoded data removed]",
      "text/plain": [
       "<Figure size 1152x360 with 1 Axes>"
      ]
     },
     "metadata": {
      "needs_background": "light"
     },
     "output_type": "display_data"
    }
   ],
   "source": [
    "# Changing figure size. Too cramped in previous set default\n",
    "plt.figure(figsize=(16,5))\n",
    "\n",
    "# Generating a boxplot \n",
    "sns.boxplot(x=df['Salary'], orient='h')\n",
    "\n",
    "# Adding labels to x axis\n",
    "plt.xlabel('Salary')"
   ]
  },
  {
   "cell_type": "code",
   "execution_count": 20,
   "id": "6779631d-05ca-43bf-84b4-ff77e443e0bb",
   "metadata": {},
   "outputs": [
    {
     "data": {
      "text/plain": [
       "<AxesSubplot:xlabel='Salary', ylabel='Density'>"
      ]
     },
     "execution_count": 20,
     "metadata": {},
     "output_type": "execute_result"
    },
    {
     "data": {
      "image/png": "[encoded data removed]",
      "text/plain": [
       "<Figure size 432x288 with 1 Axes>"
      ]
     },
     "metadata": {
      "needs_background": "light"
     },
     "output_type": "display_data"
    }
   ],
   "source": [
    "# Showing distribution\n",
    "#KDE represents the data using a continuous probability\n",
    "sns.kdeplot(df['Salary'], shade=True)"
   ]
  },
  {
   "cell_type": "code",
   "execution_count": 21,
   "id": "f59d0bf1-66e4-43c7-b4d5-2bff8ce7df4f",
   "metadata": {},
   "outputs": [
    {
     "data": {
      "text/plain": [
       "(array([ 0,  1,  2,  3,  4,  5,  6,  7,  8,  9, 10, 11, 12, 13, 14, 15, 16,\n",
       "        17, 18, 19, 20, 21, 22, 23, 24, 25, 26, 27, 28, 29, 30, 31, 32, 33,\n",
       "        34]),\n",
       " [Text(0, 0, '37731'),\n",
       "  Text(1, 0, '39343'),\n",
       "  Text(2, 0, '39891'),\n",
       "  Text(3, 0, '43525'),\n",
       "  Text(4, 0, '46205'),\n",
       "  Text(5, 0, '54445'),\n",
       "  Text(6, 0, '55794'),\n",
       "  Text(7, 0, '56642'),\n",
       "  Text(8, 0, '56957'),\n",
       "  Text(9, 0, '57081'),\n",
       "  Text(10, 0, '57189'),\n",
       "  Text(11, 0, '60150'),\n",
       "  Text(12, 0, '61111'),\n",
       "  Text(13, 0, '63218'),\n",
       "  Text(14, 0, '64445'),\n",
       "  Text(15, 0, '66029'),\n",
       "  Text(16, 0, '67938'),\n",
       "  Text(17, 0, '81363'),\n",
       "  Text(18, 0, '83088'),\n",
       "  Text(19, 0, '91738'),\n",
       "  Text(20, 0, '93940'),\n",
       "  Text(21, 0, '98273'),\n",
       "  Text(22, 0, '101302'),\n",
       "  Text(23, 0, '105582'),\n",
       "  Text(24, 0, '109431'),\n",
       "  Text(25, 0, '112635'),\n",
       "  Text(26, 0, '113812'),\n",
       "  Text(27, 0, '116969'),\n",
       "  Text(28, 0, '121872'),\n",
       "  Text(29, 0, '122391'),\n",
       "  Text(30, 0, '126756'),\n",
       "  Text(31, 0, '127345'),\n",
       "  Text(32, 0, '128765'),\n",
       "  Text(33, 0, '135675'),\n",
       "  Text(34, 0, '139465')])"
      ]
     },
     "execution_count": 21,
     "metadata": {},
     "output_type": "execute_result"
    },
    {
     "data": {
      "image/png": "[encoded data removed]",
      "text/plain": [
       "<Figure size 432x288 with 1 Axes>"
      ]
     },
     "metadata": {
      "needs_background": "light"
     },
     "output_type": "display_data"
    }
   ],
   "source": [
    "# Generating a barplot\n",
    "sns.barplot(x=df['Salary'], y=df[\"YearsExperience\"] ,data=df)\n",
    "\n",
    "# Chaning text posistion of x ticks\n",
    "plt.xticks(rotation=\"vertical\")\n"
   ]
  },
  {
   "cell_type": "code",
   "execution_count": 22,
   "id": "d0794881-8044-4c69-9590-af60f58ba791",
   "metadata": {},
   "outputs": [],
   "source": [
    "# Dropping 'Salary' from the features.\n",
    "x = df['YearsExperience']\n",
    "x = x.values.reshape(-1, 1) # reshaping x\n",
    "\n",
    "\n",
    "# Making 'Salary' the target \n",
    "y = df['Salary']"
   ]
  },
  {
   "cell_type": "code",
   "execution_count": 23,
   "id": "e13221fd-622d-4b1c-be90-c32454cc9afa",
   "metadata": {},
   "outputs": [],
   "source": [
    "# Importing algorithm\n",
    "from sklearn.linear_model import LinearRegression"
   ]
  },
  {
   "cell_type": "code",
   "execution_count": 24,
   "id": "2340db7f-c315-4209-bc40-d16a46ea3f92",
   "metadata": {},
   "outputs": [],
   "source": [
    "# Setting Classifier\n",
    "lr = LinearRegression()"
   ]
  },
  {
   "cell_type": "code",
   "execution_count": 25,
   "id": "5efffaee-18a5-4514-8f07-83acc4243b8a",
   "metadata": {},
   "outputs": [],
   "source": [
    "from sklearn.model_selection import train_test_split\n",
    "\n",
    "# Splitting the data into test and train 20/80\n",
    "x_train, x_test, y_train, y_test = train_test_split(x, y, test_size=0.2, random_state=40)"
   ]
  },
  {
   "cell_type": "code",
   "execution_count": 26,
   "id": "f6ace4dd-e575-487c-8235-2a9498e2c7dc",
   "metadata": {},
   "outputs": [
    {
     "name": "stdout",
     "output_type": "stream",
     "text": [
      "(28, 1) (7, 1) (28,) (7,)\n"
     ]
    }
   ],
   "source": [
    "# Shape of the test and training sets\n",
    "print(x_train.shape, x_test.shape, y_train.shape, y_test.shape)"
   ]
  },
  {
   "cell_type": "code",
   "execution_count": 27,
   "id": "7beeaa02-0e08-4d04-a0f5-d1b3f3d3f142",
   "metadata": {},
   "outputs": [
    {
     "data": {
      "text/plain": [
       "LinearRegression()"
      ]
     },
     "execution_count": 27,
     "metadata": {},
     "output_type": "execute_result"
    }
   ],
   "source": [
    "# Updating model to fit traiining data\n",
    "lr.fit(x_train, y_train)"
   ]
  },
  {
   "cell_type": "code",
   "execution_count": 28,
   "id": "aa868cfe-920d-4d67-8f31-3d92d4e78751",
   "metadata": {},
   "outputs": [
    {
     "name": "stdout",
     "output_type": "stream",
     "text": [
      "salary = [8775.99513323] * YearsExperience + 29075.271397297947\n"
     ]
    }
   ],
   "source": [
    "# Getting the coefficient\n",
    "coef = lr.coef_\n",
    "\n",
    "# Getting the intercept\n",
    "intercept = lr.intercept_\n",
    "\n",
    "# Formula for salary\n",
    "print(\"salary = \" + str(coef) + \" * YearsExperience + \"+str(intercept))"
   ]
  },
  {
   "cell_type": "code",
   "execution_count": 36,
   "id": "48510cf2-b7b2-4ab2-813d-ca9e109f6c93",
   "metadata": {},
   "outputs": [
    {
     "data": {
      "text/plain": [
       "array([37851.26653052])"
      ]
     },
     "execution_count": 36,
     "metadata": {},
     "output_type": "execute_result"
    }
   ],
   "source": [
    "# Predicting salary for 1 years experince\n",
    "lr.predict([[1]])"
   ]
  },
  {
   "cell_type": "markdown",
   "id": "bad3f73d-2b99-43cb-8662-fff502937b62",
   "metadata": {},
   "source": [
    "<br>"
   ]
  },
  {
   "cell_type": "code",
   "execution_count": 37,
   "id": "48423128-1a71-4f7b-b890-5f49651d06b6",
   "metadata": {
    "tags": []
   },
   "outputs": [
    {
     "data": {
      "text/plain": [
       "array([116835.22272955])"
      ]
     },
     "execution_count": 37,
     "metadata": {},
     "output_type": "execute_result"
    }
   ],
   "source": [
    "# Predicting salary for 10 years experince\n",
    "lr.predict([[10]])"
   ]
  },
  {
   "cell_type": "code",
   "execution_count": 29,
   "id": "207eeb9d-aafa-44c9-bb98-0ba6d5afd4a0",
   "metadata": {},
   "outputs": [
    {
     "data": {
      "text/plain": [
       "<matplotlib.collections.PathCollection at 0x291ad8f5cd0>"
      ]
     },
     "execution_count": 29,
     "metadata": {},
     "output_type": "execute_result"
    },
    {
     "data": {
      "image/png": "[encoded data removed]",
      "text/plain": [
       "<Figure size 432x288 with 1 Axes>"
      ]
     },
     "metadata": {
      "needs_background": "light"
     },
     "output_type": "display_data"
    }
   ],
   "source": [
    "y_pred = lr.predict(x_test)\n",
    "plt.scatter(y_test,y_pred)"
   ]
  },
  {
   "cell_type": "code",
   "execution_count": 30,
   "id": "4e34f286-7618-4d47-a9fa-8d08d353e8a3",
   "metadata": {},
   "outputs": [
    {
     "data": {
      "text/plain": [
       "<AxesSubplot:xlabel='Salary'>"
      ]
     },
     "execution_count": 30,
     "metadata": {},
     "output_type": "execute_result"
    },
    {
     "data": {
      "image/png": "[encoded data removed]",
      "text/plain": [
       "<Figure size 432x288 with 1 Axes>"
      ]
     },
     "metadata": {
      "needs_background": "light"
     },
     "output_type": "display_data"
    }
   ],
   "source": [
    "sns.regplot(x=y_test, y=y_pred)"
   ]
  },
  {
   "cell_type": "code",
   "execution_count": 31,
   "id": "36276eea-06d5-4773-b4e7-c5568a24951e",
   "metadata": {},
   "outputs": [
    {
     "data": {
      "text/plain": [
       "array([[ 37731],\n",
       "       [ 57081],\n",
       "       [ 98273],\n",
       "       [126756],\n",
       "       [121872],\n",
       "       [135675],\n",
       "       [105582]], dtype=int64)"
      ]
     },
     "execution_count": 31,
     "metadata": {},
     "output_type": "execute_result"
    }
   ],
   "source": [
    "y_test.shape\n",
    "y_test_matrix = y_test.values.reshape(-1,1)\n",
    "y_test_matrix"
   ]
  },
  {
   "cell_type": "code",
   "execution_count": 33,
   "id": "d6d76f68-3442-409c-8e24-ff24cc5f37e9",
   "metadata": {},
   "outputs": [
    {
     "data": {
      "text/html": [
       "<div>\n",
       "<style scoped>\n",
       "    .dataframe tbody tr th:only-of-type {\n",
       "        vertical-align: middle;\n",
       "    }\n",
       "\n",
       "    .dataframe tbody tr th {\n",
       "        vertical-align: top;\n",
       "    }\n",
       "\n",
       "    .dataframe thead th {\n",
       "        text-align: right;\n",
       "    }\n",
       "</style>\n",
       "<table border=\"1\" class=\"dataframe\">\n",
       "  <thead>\n",
       "    <tr style=\"text-align: right;\">\n",
       "      <th></th>\n",
       "      <th>actual</th>\n",
       "      <th>Predicted</th>\n",
       "    </tr>\n",
       "  </thead>\n",
       "  <tbody>\n",
       "    <tr>\n",
       "      <th>0</th>\n",
       "      <td>37731</td>\n",
       "      <td>42239.264097</td>\n",
       "    </tr>\n",
       "    <tr>\n",
       "      <th>1</th>\n",
       "      <td>57081</td>\n",
       "      <td>65056.851444</td>\n",
       "    </tr>\n",
       "    <tr>\n",
       "      <th>2</th>\n",
       "      <td>98273</td>\n",
       "      <td>91384.836843</td>\n",
       "    </tr>\n",
       "    <tr>\n",
       "      <th>3</th>\n",
       "      <td>126756</td>\n",
       "      <td>129999.215429</td>\n",
       "    </tr>\n",
       "    <tr>\n",
       "      <th>4</th>\n",
       "      <td>121872</td>\n",
       "      <td>121223.220296</td>\n",
       "    </tr>\n",
       "    <tr>\n",
       "      <th>5</th>\n",
       "      <td>135675</td>\n",
       "      <td>142285.608616</td>\n",
       "    </tr>\n",
       "    <tr>\n",
       "      <th>6</th>\n",
       "      <td>105582</td>\n",
       "      <td>108059.227596</td>\n",
       "    </tr>\n",
       "  </tbody>\n",
       "</table>\n",
       "</div>"
      ],
      "text/plain": [
       "   actual      Predicted\n",
       "0   37731   42239.264097\n",
       "1   57081   65056.851444\n",
       "2   98273   91384.836843\n",
       "3  126756  129999.215429\n",
       "4  121872  121223.220296\n",
       "5  135675  142285.608616\n",
       "6  105582  108059.227596"
      ]
     },
     "execution_count": 33,
     "metadata": {},
     "output_type": "execute_result"
    }
   ],
   "source": [
    "dframe=pd.DataFrame({'actual':y_test_matrix.flatten(),'Predicted':y_pred.flatten()})\n",
    "dframe.head(7)"
   ]
  },
  {
   "cell_type": "code",
   "execution_count": 34,
   "id": "831b57cf-d12e-42d8-a245-445924163006",
   "metadata": {},
   "outputs": [
    {
     "data": {
      "text/plain": [
       "Text(0, 0.5, 'Salary')"
      ]
     },
     "execution_count": 34,
     "metadata": {},
     "output_type": "execute_result"
    },
    {
     "data": {
      "image/png": "[encoded data removed]",
      "text/plain": [
       "<Figure size 432x288 with 1 Axes>"
      ]
     },
     "metadata": {
      "needs_background": "light"
     },
     "output_type": "display_data"
    }
   ],
   "source": [
    "graph =dframe.head(7)\n",
    "graph.plot(kind='bar')\n",
    "\n",
    "plt.ylabel('Salary')"
   ]
  },
  {
   "cell_type": "code",
   "execution_count": 35,
   "id": "83a4f6fe-946b-4f6f-9890-cf567421ee41",
   "metadata": {},
   "outputs": [
    {
     "name": "stdout",
     "output_type": "stream",
     "text": [
      "R2 score: 0.9765059258552102\n"
     ]
    }
   ],
   "source": [
    "from sklearn.metrics import r2_score\n",
    "r2 = r2_score(y_test,y_pred)\n",
    "print(\"R2 score: \"+str(r2))"
   ]
  },
  {
   "cell_type": "code",
   "execution_count": null,
   "id": "9b839849-1c0a-43d6-abfb-69dafa0f77f3",
   "metadata": {},
   "outputs": [],
   "source": []
  },
  {
   "cell_type": "code",
   "execution_count": null,
   "id": "057821da-1bae-4064-8f56-bac15c7711cf",
   "metadata": {},
   "outputs": [],
   "source": []
  },
  {
   "cell_type": "code",
   "execution_count": null,
   "id": "9d8917c0-6eb1-4e83-8dcd-fd6ed1d143f6",
   "metadata": {},
   "outputs": [],
   "source": []
  },
  {
   "cell_type": "code",
   "execution_count": null,
   "id": "57b5f6b9-e933-4a5f-92c1-0c113f8e21da",
   "metadata": {},
   "outputs": [],
   "source": []
  },
  {
   "cell_type": "markdown",
   "id": "d16ea93e-92b3-4815-a5ff-6a7167c5b83d",
   "metadata": {
    "tags": []
   },
   "source": [
    "<br>"
   ]
  },
  {
   "cell_type": "markdown",
   "id": "61abadf4-b485-4cdb-a986-844927eee6bc",
   "metadata": {
    "tags": []
   },
   "source": [
    "<br>"
   ]
  }
 ],
 "metadata": {
  "kernelspec": {
   "display_name": "Python 3 (ipykernel)",
   "language": "python",
   "name": "python3"
  },
  "language_info": {
   "codemirror_mode": {
    "name": "ipython",
    "version": 3
   },
   "file_extension": ".py",
   "mimetype": "text/x-python",
   "name": "python",
   "nbconvert_exporter": "python",
   "pygments_lexer": "ipython3",
   "version": "3.8.11"
  }
 },
 "nbformat": 4,
 "nbformat_minor": 5
}
