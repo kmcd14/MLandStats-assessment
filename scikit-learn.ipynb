{
 "cells": [
  {
   "cell_type": "markdown",
   "metadata": {},
   "source": [
    "***\n",
    "\n",
    "# Machine Learning & Statistics Assessment - Scikit-Learn\n",
    "\n",
    "***"
   ]
  },
  {
   "cell_type": "markdown",
   "metadata": {},
   "source": [
    "Machine learning uses a variety of algorithms that continuously learn from data.  By using training data, we can build increasingly more precise models based on that data.They do this so they can characterise data, improve their output and predict outcomes. \n",
    "The power of machine learning is that we can constantly learn from data and help predict the future. “This powerful set of algorithms and models are being used across industries to improve processes and gain insights into patterns and anomalies within data” [2]\n",
    "<br></br>\n",
    "The open source Python package, scikit-learn enables us to implement these algorithms. This aim of this notebook is to provide a clear and concise overview of the Python package Scikit-Learn. This will be achieved by reseaching the package and demonstrating it's functionality through three algorithms of choice. "
   ]
  },
  {
   "cell_type": "markdown",
   "metadata": {},
   "source": [
    "[Link to Scikit-Learn Documentation](https://scikit-learn.org/stable/tutorial/index.html)"
   ]
  },
  {
   "cell_type": "markdown",
   "metadata": {},
   "source": [
    "### What is Scikit Learn?"
   ]
  },
  {
   "cell_type": "markdown",
   "metadata": {
    "tags": []
   },
   "source": [
    "Scikit-learn is a library in Python that provides many unsupervised and supervised learning algorithms. It’s built upon some of the technology you might already be familiar with, like NumPy, pandas, and Matplotlib [1] Scikit-learn is a Python library created by David Cournapeau in 2007 as a Google Summer of Code project. Scikit-learn efficiently implements many of the machine learning algorithms. [3] The library is focused on modeling data. Scikit-learn aims on bringing machine learning to non-specialists. It puts an importance on its ease of use, performance, documentation, and API consistency. It has minimal dependencies and is distributed under the simplified BSD license, encouraging its use in both academic and commercial settings [4] Scikit-learn is built upon NumPy, SciPy and Matplotlib."
   ]
  },
  {
   "cell_type": "markdown",
   "metadata": {},
   "source": [
    "### Supervised Learning"
   ]
  },
  {
   "cell_type": "markdown",
   "metadata": {},
   "source": [
    "A supervised machine learning algorithm (as opposed to an unsupervised machine learning algorithm) is one that relies on labeled input data to learn a function that produces an appropriate output when given new unlabeled data.\n",
    "Supervised machine learning algorithms are used to solve classification or regression problems.\n",
    "<br></br>\n",
    "\n",
    "Some of the most commonly used supervised learning algorithms are:\n",
    "\n",
    "- Linear Regression\n",
    "- Logistic Regression \n",
    "- K Nearest Neighbour\n",
    "- Neural Networks\n",
    "- Naive Bayers\n",
    "- Random Forest\n",
    "- Support Vector Machines\n",
    "\n",
    "Supervised machine learning is used to solve classification or regression problem.\n",
    "\n",
    "A *classification problem* has a discrete value as its output. i.e. There is no middle ground, it’s a yes or no, true or false.\n",
    "\n",
    "A *regression problem* has a real number (float) as its output.  \n"
   ]
  },
  {
   "cell_type": "markdown",
   "metadata": {},
   "source": [
    "### Unsupervised Learning"
   ]
  },
  {
   "cell_type": "markdown",
   "metadata": {},
   "source": [
    "An unsupervised machine learning algorithm  tries to learn the basic structure of the data to give more insight into the data.Unlike supervised learning which tries to learn a function that will allow us to make predictions given some new unlabeled data, unsupervised learning makes use of input data without any labels. s. From this data, the algorithm discovers patterns which help solve clustering or association problems. This is particularly useful when subject matter experts are unsure of common properties within a data set.\n",
    "<br></br>\n",
    "\n",
    "Unsupervised machine learning, mainly deals with finding a pattern in a collection of uncategorized data. Clustering algorithms will process the data and find natural clusters(groups) if they exist. "
   ]
  },
  {
   "cell_type": "markdown",
   "metadata": {},
   "source": [
    "#### Set Up"
   ]
  },
  {
   "cell_type": "code",
   "execution_count": 1,
   "metadata": {},
   "outputs": [],
   "source": [
    "# Importing Libaries\n",
    "import sklearn.datasets as sk\n",
    "\n",
    "import numpy as np\n",
    "\n",
    "import pandas as pd\n",
    "\n",
    "import matplotlib.pyplo as plt\n",
    "\n",
    "import seaborn as sns\n",
    "\n",
    "import sklearn.neighbors as nei"
   ]
  },
  {
   "cell_type": "code",
   "execution_count": null,
   "metadata": {},
   "outputs": [],
   "source": []
  },
  {
   "cell_type": "markdown",
   "metadata": {},
   "source": [
    "### K Nearest Neighbour\n",
    "\n",
    "[K Nearest Neighbour documentation](https://scikit-learn.org/stable/modules/neighbors.html)"
   ]
  },
  {
   "cell_type": "markdown",
   "metadata": {},
   "source": [
    "KNN works on a principle assuming every data point falling in near to each other is falling in the same class. In other words, it classifies a new data point based on similarity. "
   ]
  },
  {
   "cell_type": "code",
   "execution_count": null,
   "metadata": {},
   "outputs": [],
   "source": []
  },
  {
   "cell_type": "code",
   "execution_count": null,
   "metadata": {},
   "outputs": [],
   "source": []
  },
  {
   "cell_type": "code",
   "execution_count": null,
   "metadata": {},
   "outputs": [],
   "source": []
  },
  {
   "cell_type": "markdown",
   "metadata": {},
   "source": [
    "## References"
   ]
  },
  {
   "cell_type": "markdown",
   "metadata": {},
   "source": [
    "[1] https://www.codecademy.com/articles/scikit-learn\n",
    "[2]https://www.ibm.com/downloads/cas/GB8ZMQZ3#:~:text=Machine%20learning%20is%20a%20form,describe%20data%2C%20and%20predict%20outcomes.\n",
    "[3] https://books.google.ie/books?id=HnetDwAAQBAJ&printsec=frontcover&dq=what+is+scikit+learn&hl=en&sa=X&ved=2ahUKEwjK0I3TzcXzAhXBoVwKHYM4CHEQ6AF6BAgKEAI#v=onepage&q=what%20is%20scikit%20learn&f=false\n",
    "[4] https://jmlr.org/papers/v12/pedregosa11a.html\n"
   ]
  },
  {
   "cell_type": "markdown",
   "metadata": {},
   "source": [
    "## End"
   ]
  }
 ],
 "metadata": {
  "kernelspec": {
   "display_name": "Python 3 (ipykernel)",
   "language": "python",
   "name": "python3"
  },
  "language_info": {
   "codemirror_mode": {
    "name": "ipython",
    "version": 3
   },
   "file_extension": ".py",
   "mimetype": "text/x-python",
   "name": "python",
   "nbconvert_exporter": "python",
   "pygments_lexer": "ipython3",
   "version": "3.8.11"
  }
 },
 "nbformat": 4,
 "nbformat_minor": 4
}
