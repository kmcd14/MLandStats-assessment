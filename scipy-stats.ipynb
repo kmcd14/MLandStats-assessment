{
 "cells": [
  {
   "cell_type": "markdown",
   "id": "aae76129-b431-4699-97a2-b5727e65ffae",
   "metadata": {},
   "source": [
    "***\n",
    "\n",
    "# Machine Learning & Statistics Assessment - Scipy-Stats\n",
    "\n",
    "***\n",
    "\n"
   ]
  },
  {
   "cell_type": "markdown",
   "id": "b2a3c367-0c72-4268-aee7-02c8724e2cc3",
   "metadata": {},
   "source": [
    "For this assessment we will be looking at the Python library SciPy and specifically the module SciPy-Stats. The aim of this notebook is to provide a clear and concise overview of the Python package SciPy-Stats and an example hypothesis test using ANOVA. This will be achieved by reseaching the package and demonstrating it's functionality through using a data set for which using ANOVA is suitable."
   ]
  },
  {
   "cell_type": "markdown",
   "id": "5fd7bede-4c7e-4750-bbf1-562d47244229",
   "metadata": {},
   "source": [
    "***\n",
    "\n",
    "### SciPy\n",
    "\n",
    "***\n",
    "\n",
    "[SciPy Documentation](https://docs.scipy.org/doc/scipy/index.html)"
   ]
  },
  {
   "cell_type": "markdown",
   "id": "c3856766-2ecb-40e4-85b1-cddf9d3ac876",
   "metadata": {},
   "source": [
    "Developed in 2001 as a result of Travis Oliphant, Eric Jones, and Pearu Peterson merging code, Scientific Python (SciPy) is an open source Python package used to solve scientific and mathematical problems [1]. SciPy is an open source library which is built on Numpy and competes with MATLAB, Octave, R-Lab, etc. [2]. \n",
    "\n",
    "It provides users with mathematical algorithms and user-friendly high level tools to manipulate and visualise data [3]. Deploying these high level tools helps us better analyse data, reduces the complexity of code and helps “...solve problems like numerical integration, interpolation, optimization, linear algebra and statistics” [4].\n"
   ]
  },
  {
   "cell_type": "markdown",
   "id": "56fae595-05ce-47bb-a861-1a36763c8317",
   "metadata": {},
   "source": [
    "### What Is Scipy-Stats?\n",
    "\n",
    "***\n",
    "[Documentation for Scipy-Stats](https://docs.scipy.org/doc/scipy/reference/stats.html)"
   ]
  },
  {
   "cell_type": "markdown",
   "id": "1f6fcc3d-be7c-4b3b-a9ae-5c253e7e60da",
   "metadata": {},
   "source": [
    "For this assessment we will be focusing on scipy.stats.\n",
    "\n",
    "scipy.stats is a module contained within the SciPy library which contains the statistical functions for the package [5]. The module is home to a vast selection of statistical functions,  probability distributions, kernel density estimation, quasi-Monte Carlo functionality, and much more  [6].\n",
    "SciPy-Stats is able to generate discrete or continuous random numbers as well as other descriptive statistical values [7].\n",
    "\n",
    "scipy.stats can work with both discrete or continuous variables [5]. Quantitative/Numerical data, is data which deals with objective measurements. e.g. height. It is data which can be counted. Quantitative data can be broken down into discrete data. This is data which is represented in whole numbers e.g. how many people are in the crowd. Continuous data is data which can take any value within a range e.g. a person height can be any value within the range of human heights [8].\n"
   ]
  },
  {
   "cell_type": "markdown",
   "id": "b2d63673-f72d-4edc-91b7-b55ce9e5060c",
   "metadata": {},
   "source": [
    "#### Advantages of scipy.stats:\n",
    "\n",
    "- Efficent and fast.\n",
    "- Open source.\n",
    "- Classes, and web and database routines for parallel programming.\n",
    "- Provides high level functions and classes for manipualting an\n",
    "High-level commands and classes for visualizing and manipulating data.\n",
    "Powerful and interactive sessions with Python.\n"
   ]
  },
  {
   "cell_type": "code",
   "execution_count": null,
   "id": "cfd39f15-8367-44d6-821e-cd79539840dd",
   "metadata": {},
   "outputs": [],
   "source": [
    "scipy.stats can be broken into:\n",
    "\n",
    "- Distributions\n",
    "- Descriptive Statistics\n",
    "- T-Test\n",
    "- T-Score"
   ]
  },
  {
   "cell_type": "code",
   "execution_count": null,
   "id": "053da766-1896-42c6-bace-20b4066678d2",
   "metadata": {},
   "outputs": [],
   "source": [
    "# Importing scipy-stats\n",
    "from scipy import stats\n",
    "\n",
    "# To work with data\n",
    "import numpy as np\n",
    "\n",
    "# To work with data\n",
    "import pandas as pd\n",
    "\n",
    "# Visualising data\n",
    "import matplotlib as plt\n",
    "\n",
    "# Configures matplotlib to show figures embedded in the notebook. \n",
    "%matplotlib inline\n",
    "\n",
    "# Visualising data\n",
    "import seaborn as sns"
   ]
  },
  {
   "cell_type": "code",
   "execution_count": null,
   "id": "4e3600ae-6be0-4498-92ee-e881c82ac212",
   "metadata": {},
   "outputs": [],
   "source": [
    "# Standard plot size.\n",
    "plt.rcParams['figure.figsize'] = (15, 10)\n",
    "\n",
    "# Selecting a colour scheme.\n",
    "plt.style.use('ggplot')"
   ]
  },
  {
   "cell_type": "markdown",
   "id": "b355c14d-8e8f-49d9-8e79-2d5a83982b50",
   "metadata": {
    "tags": []
   },
   "source": [
    "## References"
   ]
  },
  {
   "cell_type": "code",
   "execution_count": null,
   "id": "99fb9bde-46ba-4f57-87cf-5e400d02dfcf",
   "metadata": {},
   "outputs": [],
   "source": []
  },
  {
   "cell_type": "markdown",
   "id": "776a97f1-3d1f-4fdb-b503-4b782cf49c58",
   "metadata": {},
   "source": [
    "### Images\n",
    "\n",
    "- []()\n",
    "- []()\n",
    "- []()\n",
    "- []()\n",
    "- []()\n",
    "- []()\n",
    "- []()\n"
   ]
  },
  {
   "cell_type": "markdown",
   "id": "86aaf91f-c0bf-4d92-9adf-6f3be739a7bd",
   "metadata": {},
   "source": [
    "# End"
   ]
  }
 ],
 "metadata": {
  "kernelspec": {
   "display_name": "Python 3 (ipykernel)",
   "language": "python",
   "name": "python3"
  },
  "language_info": {
   "codemirror_mode": {
    "name": "ipython",
    "version": 3
   },
   "file_extension": ".py",
   "mimetype": "text/x-python",
   "name": "python",
   "nbconvert_exporter": "python",
   "pygments_lexer": "ipython3",
   "version": "3.8.11"
  }
 },
 "nbformat": 4,
 "nbformat_minor": 5
}
