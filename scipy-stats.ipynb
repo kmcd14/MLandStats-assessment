{
 "cells": [
  {
   "cell_type": "markdown",
   "id": "aae76129-b431-4699-97a2-b5727e65ffae",
   "metadata": {},
   "source": [
    "***\n",
    "\n",
    "# Machine Learning & Statistics Assessment - Scipy-Stats\n",
    "\n",
    "***"
   ]
  },
  {
   "cell_type": "code",
   "execution_count": null,
   "id": "94a1c44c-5010-4285-bd79-5e27faa14cb8",
   "metadata": {},
   "outputs": [],
   "source": []
  },
  {
   "cell_type": "markdown",
   "id": "b355c14d-8e8f-49d9-8e79-2d5a83982b50",
   "metadata": {},
   "source": [
    "## References"
   ]
  },
  {
   "cell_type": "code",
   "execution_count": null,
   "id": "0ebc2f43-18d9-460e-b09b-35e115f44e7c",
   "metadata": {},
   "outputs": [],
   "source": []
  },
  {
   "cell_type": "markdown",
   "id": "86aaf91f-c0bf-4d92-9adf-6f3be739a7bd",
   "metadata": {},
   "source": [
    "## End"
   ]
  },
  {
   "cell_type": "code",
   "execution_count": null,
   "id": "053da766-1896-42c6-bace-20b4066678d2",
   "metadata": {},
   "outputs": [],
   "source": []
  }
 ],
 "metadata": {
  "kernelspec": {
   "display_name": "Python 3 (ipykernel)",
   "language": "python",
   "name": "python3"
  },
  "language_info": {
   "codemirror_mode": {
    "name": "ipython",
    "version": 3
   },
   "file_extension": ".py",
   "mimetype": "text/x-python",
   "name": "python",
   "nbconvert_exporter": "python",
   "pygments_lexer": "ipython3",
   "version": "3.8.11"
  }
 },
 "nbformat": 4,
 "nbformat_minor": 5
}
