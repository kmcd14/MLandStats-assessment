{
 "cells": [
  {
   "cell_type": "markdown",
   "id": "aae76129-b431-4699-97a2-b5727e65ffae",
   "metadata": {},
   "source": [
    "***\n",
    "\n",
    "# Machine Learning & Statistics Assessment - Scipy-Stats\n",
    "\n",
    "***\n",
    "\n"
   ]
  },
  {
   "cell_type": "markdown",
   "id": "b2a3c367-0c72-4268-aee7-02c8724e2cc3",
   "metadata": {},
   "source": [
    "For this assessment we will be looking at the Python library SciPy and specifically the module SciPy-Stats. The aim of this notebook is to provide a clear and concise overview of the Python package SciPy-Stats and an example hypothesis test using ANOVA. This will be achieved by reseaching the package and demonstrating it's functionality through using a data set for which using ANOVA is suitable."
   ]
  },
  {
   "cell_type": "markdown",
   "id": "5fd7bede-4c7e-4750-bbf1-562d47244229",
   "metadata": {},
   "source": [
    "***\n",
    "\n",
    "### SciPy\n",
    "\n",
    "***\n",
    "\n",
    "[SciPy Documentation](https://docs.scipy.org/doc/scipy/index.html)"
   ]
  },
  {
   "cell_type": "markdown",
   "id": "c3856766-2ecb-40e4-85b1-cddf9d3ac876",
   "metadata": {},
   "source": [
    "Developed in 2001 as a result of Travis Oliphant, Eric Jones, and Pearu Peterson merging code, Scientific Python (SciPy) is an open source Python package used to solve scientific and mathematical problems [1]. SciPy is an open source library which is built on Numpy and competes with MATLAB, Octave, R-Lab, etc. [2]. \n",
    "\n",
    "It provides users with mathematical algorithms and user-friendly high level tools to manipulate and visualise data [3]. Deploying these high level tools helps us better analyse data, reduces the complexity of code and helps “...solve problems like numerical integration, interpolation, optimization, linear algebra and statistics” [4].\n"
   ]
  },
  {
   "cell_type": "markdown",
   "id": "56fae595-05ce-47bb-a861-1a36763c8317",
   "metadata": {},
   "source": [
    "### What Is Scipy-Stats?\n",
    "\n",
    "***\n",
    "[Documentation for Scipy-Stats](https://docs.scipy.org/doc/scipy/reference/stats.html)"
   ]
  },
  {
   "cell_type": "markdown",
   "id": "1f6fcc3d-be7c-4b3b-a9ae-5c253e7e60da",
   "metadata": {},
   "source": [
    "For this assessment we will be focusing on scipy.stats.\n",
    "\n",
    "scipy.stats is a module contained within the SciPy library which contains the statistical functions for the package [5]. The module is home to a vast selection of statistical functions,  probability distributions, kernel density estimation, quasi-Monte Carlo functionality, and much more  [6].\n",
    "SciPy-Stats is able to generate discrete or continuous random numbers as well as other descriptive statistical values [7].\n",
    "\n",
    "scipy.stats can work with both discrete or continuous variables [5]. Quantitative/Numerical data, is data which deals with objective measurements. e.g. height. It is data which can be counted. Quantitative data can be broken down into discrete data. This is data which is represented in whole numbers e.g. how many people are in the crowd. Continuous data is data which can take any value within a range e.g. a person height can be any value within the range of human heights [8].\n",
    "\n",
    "\n",
    "- A distribution of discrete variables is represented by Probability Mass Functions (PMF) and Cumulative Distribution Functions (CDF). \n",
    "     - PMF defines the probability of all possible values x for the random variable. \n",
    "     - CDF is the probability that the random variable X has an outcome less or equal to the value x\n",
    "- A distribution of continuous variables  is represented by Probability Density Functions (PDF) and Cumulative Distribution Functions (CDF) [9].\n",
    "     - PDF defines the probability of all possible values x for continuous values. \n",
    "     - CDF is the probability that the random variable X has an outcome less or equal to the value x [9].\n",
    "    \n"
   ]
  },
  {
   "cell_type": "markdown",
   "id": "b2d63673-f72d-4edc-91b7-b55ce9e5060c",
   "metadata": {
    "tags": []
   },
   "source": [
    "##### Advantages of scipy.stats:\n",
    "\n",
    "- Efficent, poweful and fast.\n",
    "- Open source.\n",
    "- Classes, and web and database routines for parallel programming.\n",
    "- Provides high level functions and classes for manipualting and visualising data [7]. \n"
   ]
  },
  {
   "cell_type": "markdown",
   "id": "537280a7-8df6-429c-82d0-ba2114d1e4ad",
   "metadata": {},
   "source": [
    "scipy.stats can be broken into:\n",
    "\n",
    "- Distributions\n",
    "- Descriptive Statistics\n",
    "- T-Test\n",
    "- T-Score"
   ]
  },
  {
   "cell_type": "markdown",
   "id": "10ef555e-4721-4678-9aff-938c0940690b",
   "metadata": {},
   "source": [
    "#### Importing Libaries"
   ]
  },
  {
   "cell_type": "code",
   "execution_count": 1,
   "id": "053da766-1896-42c6-bace-20b4066678d2",
   "metadata": {},
   "outputs": [],
   "source": [
    "# Importing scipy-stats\n",
    "from scipy import stats\n",
    "\n",
    "# To work with data\n",
    "import numpy as np\n",
    "\n",
    "# To work with data\n",
    "import pandas as pd\n",
    "\n",
    "# Visualising data\n",
    "import matplotlib.pyplot as plt\n",
    "\n",
    "# Configures matplotlib to show figures embedded in the notebook. \n",
    "%matplotlib inline\n",
    "\n",
    "# Visualising data\n",
    "import seaborn as sns"
   ]
  },
  {
   "cell_type": "code",
   "execution_count": 2,
   "id": "4e3600ae-6be0-4498-92ee-e881c82ac212",
   "metadata": {},
   "outputs": [],
   "source": [
    "# Standard plot size.\n",
    "plt.rcParams['figure.figsize'] = (15, 10)\n",
    "\n",
    "# Selecting a colour scheme.\n",
    "plt.style.use('ggplot')"
   ]
  },
  {
   "cell_type": "code",
   "execution_count": 3,
   "id": "3873538c-1e23-41f8-bbb9-dff0be78fbf6",
   "metadata": {},
   "outputs": [],
   "source": [
    "# Setting the PRNG as PCG-64\n",
    "rng = np.random.default_rng()"
   ]
  },
  {
   "cell_type": "markdown",
   "id": "aee3cec0-8b6e-4b0e-97c8-823a7dc87915",
   "metadata": {},
   "source": []
  },
  {
   "cell_type": "code",
   "execution_count": null,
   "id": "2c13326f-1de4-42ff-b4ac-a84d481aa702",
   "metadata": {},
   "outputs": [],
   "source": []
  },
  {
   "cell_type": "code",
   "execution_count": null,
   "id": "33d91b62-fe06-4982-a698-dbd0a7197f4c",
   "metadata": {},
   "outputs": [],
   "source": []
  },
  {
   "cell_type": "markdown",
   "id": "237b10bc-482e-4f70-8d56-b0380b9aebe9",
   "metadata": {
    "tags": []
   },
   "source": [
    "### Classes\n",
    "\n",
    "SciPy Stats consists of three classes: **\n",
    "\n",
    "- rv_continuous\n",
    "- rv_discrete\n",
    "- rv_histogram\n",
    "\n",
    "** rv stands for random variables"
   ]
  },
  {
   "cell_type": "markdown",
   "id": "f6b7e89b-92df-42ee-bf14-74cb758186f1",
   "metadata": {},
   "source": [
    "##### rv_continuous\n",
    "\n",
    "This is a continuous random variable class meant fo subclassing. rv_continuous can't be used itself as a distribution [10] It is \"...a base class to construct specific distribution classes and instances for continuous random variables\" [11].\n",
    "\n",
    "In scipy.stats, distributions are instances, when we use rv_continuous an instance is created [12]. When an instance is created, we now have a functional distribution \"... with all relevant methods automagically generated by the framework\" [12].\n",
    "\n",
    "rv_continuous is used when a distribution needed is not defined in scipy.stats [12]. "
   ]
  },
  {
   "cell_type": "code",
   "execution_count": 4,
   "id": "06e79e10-188f-4382-bca2-03751a2e0b9d",
   "metadata": {},
   "outputs": [],
   "source": [
    "# Setting seed so output stays the same\n",
    "rng = np.random.default_rng(seed=5)\n",
    "\n",
    "# Generating a normal distribution \n",
    "x = rng.normal(loc=0, scale=1.0, size=5000)"
   ]
  },
  {
   "cell_type": "code",
   "execution_count": 5,
   "id": "aa9c7e57-8d46-4ea0-9bdc-f1167c17ce1d",
   "metadata": {},
   "outputs": [
    {
     "data": {
      "text/plain": [
       "<seaborn.axisgrid.FacetGrid at 0x24a8377d3a0>"
      ]
     },
     "execution_count": 5,
     "metadata": {},
     "output_type": "execute_result"
    },
    {
     "data": {
      "image/png": "[encoded data removed]",
      "text/plain": [
       "<Figure size 360x360 with 1 Axes>"
      ]
     },
     "metadata": {},
     "output_type": "display_data"
    }
   ],
   "source": [
    "# Generating a distplot\n",
    "sns.displot(x, bins='auto', kde=True)"
   ]
  },
  {
   "cell_type": "markdown",
   "id": "f9dc6a44-3f34-4bff-8ffa-19593cfbcd3d",
   "metadata": {},
   "source": [
    "Normal distribution, also known as the Gaussian distribution,is a probability function used in statistics that tells about how the data values are distributed. It usually resembles a bell shaped curve. It is the most important probability distribution function used in statistics because of its advantages in real case scenarios. The normal distribution describes a common occurring distribution of samples influenced by a large or tiny, random distribution or which occurs often in nature [13]. For example, the height of the population. The normal distribution is symmetric about the mean i.e. showing that data near the mean are more frequent in occurrence than data far from the mean e.g. people are more likely to be in and around the average height than they are to be on the smaller or taller side.\n",
    "\n",
    "[equation]\n",
    "\n",
    "For a normal distribution, 68% of the observations are within +/- one standard deviation of the mean, 95% are within +/- two standard deviations, and 99.7% are within +- three standard deviations [14]."
   ]
  },
  {
   "cell_type": "markdown",
   "id": "9ba10a66-f213-495a-9c56-9ac68ea1c739",
   "metadata": {},
   "source": [
    "scipy.stats allows us to to fit a distribution to data. "
   ]
  },
  {
   "cell_type": "markdown",
   "id": "0c2b4610-56e8-4b2c-b662-3f729531336c",
   "metadata": {},
   "source": [
    "##### Fitting "
   ]
  },
  {
   "cell_type": "code",
   "execution_count": 8,
   "id": "9bd61c7b-3904-4172-82f1-1d285869a51e",
   "metadata": {},
   "outputs": [],
   "source": [
    "# Fitting normal distribution\n",
    "location, scale = stats.norm.fit(x)"
   ]
  },
  {
   "cell_type": "code",
   "execution_count": 9,
   "id": "c15861bb-f943-445e-82cf-ae0dc74c4d97",
   "metadata": {},
   "outputs": [
    {
     "data": {
      "text/plain": [
       "(0.03183804786880168, 1.0058058589399272)"
      ]
     },
     "execution_count": 9,
     "metadata": {},
     "output_type": "execute_result"
    }
   ],
   "source": [
    "location, scale"
   ]
  },
  {
   "cell_type": "markdown",
   "id": "608c8665-2be3-474e-9022-19de5fbd43bf",
   "metadata": {},
   "source": [
    "##### Probability density function (PDF)\n",
    "\n",
    "PDF is the likelihood of which a variable takes a specific value. Values which have a high PDF are more likely to happen. For example; the Gaussian bell in a normal distribution."
   ]
  },
  {
   "cell_type": "code",
   "execution_count": 10,
   "id": "6ea89f8e-2dac-43ad-96b2-a8bad47301a2",
   "metadata": {},
   "outputs": [],
   "source": [
    "# Generating 1D array of equally spaced values \n",
    "x = np.linspace(-10, 10, 50) # start, stop, size"
   ]
  },
  {
   "cell_type": "code",
   "execution_count": 11,
   "id": "de6a8097-c732-4f68-a8fa-62219bcce6d0",
   "metadata": {},
   "outputs": [
    {
     "data": {
      "text/plain": [
       "array([-10.        ,  -9.59183673,  -9.18367347,  -8.7755102 ,\n",
       "        -8.36734694,  -7.95918367,  -7.55102041,  -7.14285714,\n",
       "        -6.73469388,  -6.32653061,  -5.91836735,  -5.51020408,\n",
       "        -5.10204082,  -4.69387755,  -4.28571429,  -3.87755102,\n",
       "        -3.46938776,  -3.06122449,  -2.65306122,  -2.24489796,\n",
       "        -1.83673469,  -1.42857143,  -1.02040816,  -0.6122449 ,\n",
       "        -0.20408163,   0.20408163,   0.6122449 ,   1.02040816,\n",
       "         1.42857143,   1.83673469,   2.24489796,   2.65306122,\n",
       "         3.06122449,   3.46938776,   3.87755102,   4.28571429,\n",
       "         4.69387755,   5.10204082,   5.51020408,   5.91836735,\n",
       "         6.32653061,   6.73469388,   7.14285714,   7.55102041,\n",
       "         7.95918367,   8.36734694,   8.7755102 ,   9.18367347,\n",
       "         9.59183673,  10.        ])"
      ]
     },
     "execution_count": 11,
     "metadata": {},
     "output_type": "execute_result"
    }
   ],
   "source": [
    "x"
   ]
  },
  {
   "cell_type": "code",
   "execution_count": 12,
   "id": "f031fa66-3be9-4df0-ad4d-9f26b0e46411",
   "metadata": {
    "tags": []
   },
   "outputs": [],
   "source": [
    "# Generating PDF\n",
    "pdf = stats.norm.pdf(x)"
   ]
  },
  {
   "cell_type": "code",
   "execution_count": 13,
   "id": "d1bccc39-bc0f-4210-b145-1f3921effa72",
   "metadata": {},
   "outputs": [
    {
     "data": {
      "text/plain": [
       "Text(0, 0.5, 'PDF')"
      ]
     },
     "execution_count": 13,
     "metadata": {},
     "output_type": "execute_result"
    },
    {
     "data": {
      "image/png": "[encoded data removed]",
      "text/plain": [
       "<Figure size 1080x720 with 1 Axes>"
      ]
     },
     "metadata": {},
     "output_type": "display_data"
    }
   ],
   "source": [
    "# Generating a plot\n",
    "plt.plot(x, pdf)\n",
    "\n",
    "# Labelling x and y axis\n",
    "plt.xlabel('X')\n",
    "plt.ylabel('PDF')"
   ]
  },
  {
   "cell_type": "markdown",
   "id": "cb298964-e56c-45eb-b5e7-04b1957051a1",
   "metadata": {},
   "source": [
    "As we can see from the above plot, the data recreates the gaussian bell"
   ]
  },
  {
   "cell_type": "markdown",
   "id": "725a4f57-9de9-4ce4-8d93-38050be0629f",
   "metadata": {},
   "source": [
    "##### Cumulative distribution function (CDF)\n",
    "\n",
    "This is the probability that a variable takes a value less than or equal to X [15].\n"
   ]
  },
  {
   "cell_type": "code",
   "execution_count": 14,
   "id": "6e8d446c-b687-4e33-8428-fc96311da423",
   "metadata": {},
   "outputs": [],
   "source": [
    "# Generating CDF using x\n",
    "cdf = stats.norm.cdf(x, loc=loc, scale=scale)"
   ]
  },
  {
   "cell_type": "code",
   "execution_count": 15,
   "id": "9192da72-3e51-4343-8fc8-014640cc7cbf",
   "metadata": {},
   "outputs": [
    {
     "data": {
      "text/plain": [
       "Text(0, 0.5, 'Probability')"
      ]
     },
     "execution_count": 15,
     "metadata": {},
     "output_type": "execute_result"
    },
    {
     "data": {
      "image/png": "[encoded data removed]",
      "text/plain": [
       "<Figure size 1080x720 with 1 Axes>"
      ]
     },
     "metadata": {},
     "output_type": "display_data"
    }
   ],
   "source": [
    "# Generating a plt\n",
    "plt.plot(x, cdf)\n",
    "\n",
    "# Labelling x and y axis\n",
    "plt.xlabel('X')\n",
    "plt.ylabel('Probability')"
   ]
  },
  {
   "cell_type": "markdown",
   "id": "6dfcd6b6-e282-4cd5-9aea-5e2e73b1bcc9",
   "metadata": {},
   "source": [
    "As we can see in the abpve plot, the x axis is \"...the allowable domain for the given probability function\" [15]. The y axis (probability) must fall between0 and 1. "
   ]
  },
  {
   "cell_type": "markdown",
   "id": "8862c830-e863-4ca7-ac75-ea8215dcf551",
   "metadata": {},
   "source": [
    "##### Percent Point Function (PPF)\n",
    "\n",
    "PPF also known as he inverse distribution function, is the inverse of CDF. We use PPF to calculated the value of X for a given CDF value [15]."
   ]
  },
  {
   "cell_type": "code",
   "execution_count": 16,
   "id": "d07466b6-a316-4f85-98ca-797580c0afeb",
   "metadata": {},
   "outputs": [],
   "source": [
    "# Generating 10000 equally spaced numbers between 0 and 1\n",
    "inverse =  np.linspace(0, 1, 10000)"
   ]
  },
  {
   "cell_type": "code",
   "execution_count": 17,
   "id": "3550e71d-ab51-4f31-b77b-4ff998d6100b",
   "metadata": {},
   "outputs": [],
   "source": [
    "# Generating PPF\n",
    "x = stats.norm.ppf(inverse , loc=loc, scale=scale)"
   ]
  },
  {
   "cell_type": "code",
   "execution_count": 18,
   "id": "7ff786f8-6c4f-4661-9e88-af554e3b8e0b",
   "metadata": {},
   "outputs": [
    {
     "data": {
      "text/plain": [
       "Text(0, 0.5, 'CDF = P(x<=X)')"
      ]
     },
     "execution_count": 18,
     "metadata": {},
     "output_type": "execute_result"
    },
    {
     "data": {
      "image/png": "[encoded data removed]",
      "text/plain": [
       "<Figure size 1080x720 with 1 Axes>"
      ]
     },
     "metadata": {},
     "output_type": "display_data"
    }
   ],
   "source": [
    "# Generating a plot\n",
    "plt.plot(x, inverse)\n",
    "\n",
    "# Labelling x and y axis\n",
    "plt.xlabel('X')\n",
    "plt.ylabel('CDF = P(x<=X)')"
   ]
  },
  {
   "cell_type": "markdown",
   "id": "5a3fe464-7f92-4136-b573-7a858c950500",
   "metadata": {},
   "source": [
    "##### Probability Mass Function (PMF)\n",
    "\n",
    "PMF is the probability to which a random variable will take on a particular value [16]."
   ]
  },
  {
   "cell_type": "markdown",
   "id": "9a3eb750-a675-4cdb-8416-3905b1c1da88",
   "metadata": {},
   "source": [
    "A binomial distribution derived from Bernoulli Process, can be thought of as probability of a success or failure outcome in an experiment which is repeated numerous times. The binomial distribution assumes that each experinment/event is independant of each other and that only two outcomes came occur, hence the word bi [17]. An example would be flipping a coin. The result can only be heads or tails, the chance of either appear is even."
   ]
  },
  {
   "cell_type": "code",
   "execution_count": 42,
   "id": "c4db2ebd-4357-459c-ab4a-061a179f3c27",
   "metadata": {},
   "outputs": [],
   "source": [
    "from scipy.stats import binom"
   ]
  },
  {
   "cell_type": "code",
   "execution_count": 73,
   "id": "a166465f-7986-4665-8b14-99ce46dd7f23",
   "metadata": {},
   "outputs": [],
   "source": [
    "# Probability of getting heads 5 times after throwning a coin 10 times\n",
    "pmf = binom.pmf(k=5, p=0.5, n=10)"
   ]
  },
  {
   "cell_type": "code",
   "execution_count": 74,
   "id": "a44920ff-bd13-43b6-aa47-9e9d4761183b",
   "metadata": {},
   "outputs": [
    {
     "data": {
      "text/plain": [
       "0.24609375000000003"
      ]
     },
     "execution_count": 74,
     "metadata": {},
     "output_type": "execute_result"
    }
   ],
   "source": [
    "pmf"
   ]
  },
  {
   "cell_type": "markdown",
   "id": "abe72983-a5d5-451a-820a-6abc57821e7d",
   "metadata": {},
   "source": [
    "We can skew the probaility to be in our favour. \n",
    "\n",
    "If the probability of success is less than 0.5, the distribution is positively skewed i.e. the probabilities for x is greater for values below the expected value than above it.\n",
    "\n",
    "And if the probability of success is greater than 0.5, the distribution is negatively skewed — i.e. probabilities for X are greater for values above the expected value than below it [18]."
   ]
  },
  {
   "cell_type": "code",
   "execution_count": 69,
   "id": "ddf9cfea-f2f4-48b0-8f0a-a5c373c5be54",
   "metadata": {},
   "outputs": [],
   "source": [
    "# Probability of getting heads 50 times after throwning a coin 100 times with skewed probaility \n",
    "neg_skew = binom.pmf(k=50, p=0.3, n=100)"
   ]
  },
  {
   "cell_type": "code",
   "execution_count": 70,
   "id": "181633fb-d1a4-4cde-9ce0-330eb381fb0b",
   "metadata": {},
   "outputs": [
    {
     "data": {
      "text/plain": [
       "1.302622713144528e-05"
      ]
     },
     "execution_count": 70,
     "metadata": {},
     "output_type": "execute_result"
    }
   ],
   "source": [
    "neg_skew"
   ]
  },
  {
   "cell_type": "code",
   "execution_count": 71,
   "id": "adc61a09-f0ca-4dcf-9f39-72f3d653a553",
   "metadata": {},
   "outputs": [],
   "source": [
    "# Probability of getting heads 70 times after throwning a coin 100 times with skewed probaility \n",
    "pos_skew =  binom.pmf(k=70, p=0.7, n=100)"
   ]
  },
  {
   "cell_type": "code",
   "execution_count": 72,
   "id": "74f8e6ca-c287-4d2e-8075-385e0c08d62a",
   "metadata": {},
   "outputs": [
    {
     "data": {
      "text/plain": [
       "0.0867838647534282"
      ]
     },
     "execution_count": 72,
     "metadata": {},
     "output_type": "execute_result"
    }
   ],
   "source": [
    "pos_skew"
   ]
  },
  {
   "cell_type": "markdown",
   "id": "ac78e2eb-6ed4-4309-8a91-a9b6a64a8d40",
   "metadata": {},
   "source": [
    "### Descriptive Statistics\n",
    "\n",
    "***\n",
    "Descriptive Statistics refers to basic stats about the data such as min, max, mean, mode, variance, etc.  Below we will show some examples using scipy.stats, a full list of statistics can be found in the SciPy Stats documentation."
   ]
  },
  {
   "cell_type": "markdown",
   "id": "389770ef-b5d3-43dd-9ead-a693ea8aeae6",
   "metadata": {
    "tags": []
   },
   "source": [
    "#### Summary statistics"
   ]
  },
  {
   "cell_type": "code",
   "execution_count": 114,
   "id": "65082dcf-de31-455a-aabe-6e3526f0145c",
   "metadata": {},
   "outputs": [],
   "source": [
    "# A 1D array of 5 random intergrs between 0 (low) and 10 (exculsive).\n",
    "x = rng.integers(0, 50, 20)"
   ]
  },
  {
   "cell_type": "code",
   "execution_count": 115,
   "id": "2e79b78d-5cec-437e-9f15-1639e0bc21d3",
   "metadata": {},
   "outputs": [
    {
     "data": {
      "text/plain": [
       "array([21, 35, 32,  7, 36, 47, 18, 10,  8, 34, 25, 43,  2, 39, 15, 23, 32,\n",
       "        0, 24,  8], dtype=int64)"
      ]
     },
     "execution_count": 115,
     "metadata": {},
     "output_type": "execute_result"
    }
   ],
   "source": [
    "x"
   ]
  },
  {
   "cell_type": "code",
   "execution_count": 116,
   "id": "6295f480-d592-4c56-801d-8fc53e2354c0",
   "metadata": {},
   "outputs": [
    {
     "data": {
      "text/plain": [
       "DescribeResult(nobs=20, minmax=(0, 47), mean=22.95, variance=198.47105263157894, skewness=-0.0368358222781446, kurtosis=-1.1598437621718691)"
      ]
     },
     "execution_count": 116,
     "metadata": {},
     "output_type": "execute_result"
    }
   ],
   "source": [
    "# Displays several data stats\n",
    "stats.describe(x)"
   ]
  },
  {
   "cell_type": "markdown",
   "id": "f0bca376-88dc-45bf-aebf-cce51cd6453f",
   "metadata": {},
   "source": [
    "- Kurtosis: This is how heavily the tails of a distribution differ from those of a normal distribution i.e. if the tails have extreme values [19]. \n",
    "- Variance: The spread of numbers in a data set.\n",
    "- Skewness: This is measure of the symmetry of a distribution."
   ]
  },
  {
   "cell_type": "code",
   "execution_count": 117,
   "id": "eb060da4-e673-46b9-b41d-742520e89638",
   "metadata": {},
   "outputs": [
    {
     "data": {
      "text/plain": [
       "ModeResult(mode=array([8], dtype=int64), count=array([2]))"
      ]
     },
     "execution_count": 117,
     "metadata": {},
     "output_type": "execute_result"
    }
   ],
   "source": [
    "# Finding mode\n",
    "stats.mode(x)"
   ]
  },
  {
   "cell_type": "markdown",
   "id": "6a0bad2c-ab81-4a15-be27-fd23349eb68c",
   "metadata": {},
   "source": [
    "The mode refers to the number which appears most frequently [20]. "
   ]
  },
  {
   "cell_type": "code",
   "execution_count": 118,
   "id": "1b84ba92-eb52-4ddf-ac6e-bc35e18bc6e8",
   "metadata": {},
   "outputs": [
    {
     "data": {
      "text/plain": [
       "3.1501670799465455"
      ]
     },
     "execution_count": 118,
     "metadata": {},
     "output_type": "execute_result"
    }
   ],
   "source": [
    "# Finding standard error of the mean\n",
    "stats.sem(x)"
   ]
  },
  {
   "cell_type": "markdown",
   "id": "4da241cc-63dd-4338-bee8-7d8fd0d23711",
   "metadata": {},
   "source": [
    "Standard error of a mean tells how accurate the mean of any given sample is compared to the true population mean. When the standard error increases, i.e. the means are more spread out, the mean is not accurate of the true population [21]."
   ]
  },
  {
   "cell_type": "code",
   "execution_count": 119,
   "id": "eb030131-1e6d-4373-9fef-55c4b7cc2d34",
   "metadata": {},
   "outputs": [
    {
     "data": {
      "text/plain": [
       "24.75"
      ]
     },
     "execution_count": 119,
     "metadata": {},
     "output_type": "execute_result"
    }
   ],
   "source": [
    "# Finding nterquartile range (IQR)\n",
    "stats.iqr(x, axis=0)"
   ]
  },
  {
   "cell_type": "markdown",
   "id": "a31f2067-86fd-45a4-8a80-b61054cef172",
   "metadata": {},
   "source": [
    "IQR is the difference between the 75% and 25% percentile of the data [22]"
   ]
  },
  {
   "cell_type": "code",
   "execution_count": 120,
   "id": "9820b61c-82c8-4504-a352-4792681ec210",
   "metadata": {},
   "outputs": [
    {
     "data": {
      "text/plain": [
       "array([-0.14201173,  0.87755967,  0.65908009, -1.16158314,  0.9503862 ,\n",
       "        1.75147802, -0.36049132, -0.94310355, -1.08875661,  0.80473314,\n",
       "        0.14929438,  1.4601719 , -1.52571578,  1.16886579, -0.5789709 ,\n",
       "        0.00364133,  0.65908009, -1.67136884,  0.07646786, -1.08875661])"
      ]
     },
     "execution_count": 120,
     "metadata": {},
     "output_type": "execute_result"
    }
   ],
   "source": [
    "# Finding z score\n",
    "stats.zscore(x)"
   ]
  },
  {
   "cell_type": "markdown",
   "id": "012b3b6a-0da3-4c84-b2e2-ac10d7f00fd8",
   "metadata": {},
   "source": [
    "A z-score tells you how far from the mean a data point is. It is measured in standard deviation units [23]."
   ]
  },
  {
   "cell_type": "code",
   "execution_count": null,
   "id": "f400712a-1f63-478c-94e9-9ba78c45c2e8",
   "metadata": {},
   "outputs": [],
   "source": []
  },
  {
   "cell_type": "markdown",
   "id": "c13f8990-a4ea-4221-80a4-709bff4c7146",
   "metadata": {},
   "source": [
    "#### Frequency statistics"
   ]
  },
  {
   "cell_type": "code",
   "execution_count": 144,
   "id": "e2d8cc1a-40e6-46b9-8d0b-f667536d9cd3",
   "metadata": {},
   "outputs": [
    {
     "data": {
      "text/plain": [
       "CumfreqResult(cumcount=array([ 2.,  3.,  6.,  8., 10., 12., 14., 18., 19., 20.]), lowerlimit=-2.611111111111111, binsize=5.222222222222223, extrapoints=0)"
      ]
     },
     "execution_count": 144,
     "metadata": {},
     "output_type": "execute_result"
    }
   ],
   "source": [
    "# Finding cumulative frequency \n",
    "stats.cumfreq(x)"
   ]
  },
  {
   "cell_type": "markdown",
   "id": "1d9e7812-2bca-41fa-8bc3-0f9849a68937",
   "metadata": {},
   "source": [
    "Cumulative frequency is \"...the sum of the class and all classes below it in a frequency distribution\" [24]. i.e. adding up a value and all of the values that came before it."
   ]
  },
  {
   "cell_type": "code",
   "execution_count": 143,
   "id": "f91f7b74-b274-4a96-b2f9-c5af40d62203",
   "metadata": {},
   "outputs": [
    {
     "data": {
      "text/plain": [
       "40.0"
      ]
     },
     "execution_count": 143,
     "metadata": {},
     "output_type": "execute_result"
    }
   ],
   "source": [
    "# Finding percentile of score\n",
    "stats.percentileofscore(x, 20)"
   ]
  },
  {
   "cell_type": "code",
   "execution_count": 152,
   "id": "ff6770f5-6f45-43b3-a114-3cb937e654c2",
   "metadata": {},
   "outputs": [
    {
     "data": {
      "text/plain": [
       "95.0"
      ]
     },
     "execution_count": 152,
     "metadata": {},
     "output_type": "execute_result"
    }
   ],
   "source": [
    "stats.percentileofscore(x, 45)"
   ]
  },
  {
   "cell_type": "markdown",
   "id": "756e3129-9dea-48b5-a0c8-35ca2518285c",
   "metadata": {},
   "source": [
    "This function helps calculate the \"...percentile rank of a score relative to a list of scores\" [25]. In the example above 40% of the scores is below X and 95% in the second example. "
   ]
  },
  {
   "cell_type": "code",
   "execution_count": 155,
   "id": "802d43a7-e22e-4f10-bcfc-7dc09af6f9b6",
   "metadata": {},
   "outputs": [
    {
     "data": {
      "text/plain": [
       "23.5"
      ]
     },
     "execution_count": 155,
     "metadata": {},
     "output_type": "execute_result"
    }
   ],
   "source": [
    "# Finding the score at percentile\n",
    "stats.scoreatpercentile(x, 50) # 50 i.e.median"
   ]
  },
  {
   "cell_type": "markdown",
   "id": "f5678092-d497-4241-9149-838f7eb8a6ea",
   "metadata": {},
   "source": [
    "This function calculates the score at a given percentile [26]."
   ]
  },
  {
   "cell_type": "code",
   "execution_count": 163,
   "id": "a7ad4789-f9bd-42db-b6fe-84637cf14e01",
   "metadata": {},
   "outputs": [
    {
     "data": {
      "text/plain": [
       "RelfreqResult(frequency=array([0.1 , 0.05, 0.15, 0.1 , 0.1 , 0.1 , 0.1 , 0.2 , 0.05, 0.05]), lowerlimit=-2.611111111111111, binsize=5.222222222222223, extrapoints=0)"
      ]
     },
     "execution_count": 163,
     "metadata": {},
     "output_type": "execute_result"
    }
   ],
   "source": [
    "# Finding the relative frequency\n",
    "stats.relfreq(x)"
   ]
  },
  {
   "cell_type": "markdown",
   "id": "14785cca-ef9f-4395-b762-f25147f031f6",
   "metadata": {},
   "source": [
    "Relative frequency is the % or ratio of the number of times a value in the data occurs \"...in the set of all outcomes to the total number of outcomes\" [27]."
   ]
  },
  {
   "cell_type": "code",
   "execution_count": 174,
   "id": "a115d18b-1800-41c5-b450-d6b61a31b743",
   "metadata": {},
   "outputs": [],
   "source": [
    "# Generating an array of 5 intergers\n",
    "binned = rng.integers(0,50,5)"
   ]
  },
  {
   "cell_type": "code",
   "execution_count": 175,
   "id": "c831af50-8efa-4ef6-bb7c-27247c516752",
   "metadata": {},
   "outputs": [
    {
     "data": {
      "text/plain": [
       "array([15, 44, 13,  5, 25], dtype=int64)"
      ]
     },
     "execution_count": 175,
     "metadata": {},
     "output_type": "execute_result"
    }
   ],
   "source": [
    "binned"
   ]
  },
  {
   "cell_type": "code",
   "execution_count": 184,
   "id": "6072ea35-c624-4b52-8716-a110f04ce8af",
   "metadata": {},
   "outputs": [
    {
     "data": {
      "text/plain": [
       "BinnedStatisticResult(statistic=array([2. , 2.5]), bin_edges=array([ 5. , 24.5, 44. ]), binnumber=array([1, 2, 1, 1, 2], dtype=int64))"
      ]
     },
     "execution_count": 184,
     "metadata": {},
     "output_type": "execute_result"
    }
   ],
   "source": [
    "# Getting binned statistics\n",
    "stats.binned_statistic(binned, np.arange(5), statistic='median', bins=2)\n"
   ]
  },
  {
   "cell_type": "markdown",
   "id": "8995a90b-511f-483e-b749-3a04a6901f8a",
   "metadata": {},
   "source": [
    "This function calculates binned statsistics for your data. This inculdes; the sum, median, mean, count, etc. for vaules in each bin [28].\n",
    "\n",
    "- bin edges: number of va;ues in a bin \n",
    "- bin number: Indices of the bins in which each value of x belongs [29]."
   ]
  },
  {
   "cell_type": "code",
   "execution_count": null,
   "id": "6f809cbb-033f-4747-8cb5-6410868cacfd",
   "metadata": {},
   "outputs": [],
   "source": []
  },
  {
   "cell_type": "code",
   "execution_count": null,
   "id": "65490f71-3a04-4133-95f4-d5d10aee800e",
   "metadata": {},
   "outputs": [],
   "source": []
  },
  {
   "cell_type": "code",
   "execution_count": null,
   "id": "8ade5276-fb1a-47ad-8a6d-afd5348e6e69",
   "metadata": {},
   "outputs": [],
   "source": []
  },
  {
   "cell_type": "code",
   "execution_count": null,
   "id": "2d50fe92-016f-46f4-8b36-70859af89b9f",
   "metadata": {},
   "outputs": [],
   "source": []
  },
  {
   "cell_type": "markdown",
   "id": "b355c14d-8e8f-49d9-8e79-2d5a83982b50",
   "metadata": {
    "tags": []
   },
   "source": [
    "## References"
   ]
  },
  {
   "cell_type": "code",
   "execution_count": null,
   "id": "99fb9bde-46ba-4f57-87cf-5e400d02dfcf",
   "metadata": {},
   "outputs": [],
   "source": []
  },
  {
   "cell_type": "markdown",
   "id": "776a97f1-3d1f-4fdb-b503-4b782cf49c58",
   "metadata": {},
   "source": [
    "### Images\n",
    "\n",
    "- []()\n",
    "- []()\n",
    "- []()\n",
    "- []()\n",
    "- []()\n",
    "- []()\n",
    "- []()\n"
   ]
  },
  {
   "cell_type": "markdown",
   "id": "86aaf91f-c0bf-4d92-9adf-6f3be739a7bd",
   "metadata": {},
   "source": [
    "# End"
   ]
  }
 ],
 "metadata": {
  "kernelspec": {
   "display_name": "Python 3 (ipykernel)",
   "language": "python",
   "name": "python3"
  },
  "language_info": {
   "codemirror_mode": {
    "name": "ipython",
    "version": 3
   },
   "file_extension": ".py",
   "mimetype": "text/x-python",
   "name": "python",
   "nbconvert_exporter": "python",
   "pygments_lexer": "ipython3",
   "version": "3.8.11"
  }
 },
 "nbformat": 4,
 "nbformat_minor": 5
}
